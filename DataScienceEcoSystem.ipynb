{
 "cells": [
  {
   "cell_type": "markdown",
   "id": "9d093c44",
   "metadata": {},
   "source": [
    "Data Science Tools and Ecosystem"
   ]
  },
  {
   "cell_type": "markdown",
   "id": "1217705f",
   "metadata": {},
   "source": [
    "In this notebook, Data Science Tools and Ecosystem are summarized.\n"
   ]
  },
  {
   "cell_type": "markdown",
   "id": "af9a3a4c",
   "metadata": {},
   "source": [
    "Some of the popular languages that Data Scientists use are:\n",
    "Python\n",
    "R language\n",
    "Java\n",
    "Julia"
   ]
  },
  {
   "cell_type": "markdown",
   "id": "271b9b4b",
   "metadata": {},
   "source": [
    "Some of the commonly used libraries used by Data Scientists include:\n",
    "NumPy,\n",
    "Matplotlib,\n",
    "Pandas.\n"
   ]
  },
  {
   "cell_type": "markdown",
   "id": "f4accf21",
   "metadata": {},
   "source": [
    "df=data.frame(Data Science Tools=c(\"Apache spark\",\"TensorFlow\",\"Tableau\"))\n",
    "print(df)"
   ]
  },
  {
   "cell_type": "markdown",
   "id": "2d942f89",
   "metadata": {},
   "source": [
    "###Below are a few examples of evaluating arithmetic expresssions in python"
   ]
  },
  {
   "cell_type": "code",
   "execution_count": 3,
   "id": "daf16d2e",
   "metadata": {},
   "outputs": [
    {
     "data": {
      "text/plain": [
       "17"
      ]
     },
     "execution_count": 3,
     "metadata": {},
     "output_type": "execute_result"
    }
   ],
   "source": [
    "(3*4)+5 #This a simple arithmetic expression to mutiply then add interers"
   ]
  },
  {
   "cell_type": "code",
   "execution_count": 6,
   "id": "e1d5a6e3",
   "metadata": {},
   "outputs": [
    {
     "name": "stdout",
     "output_type": "stream",
     "text": [
      "3.3333333333333335\n"
     ]
    }
   ],
   "source": [
    "minutes=200\n",
    "hours= minutes /60 #This will convert 200 minutes to hours by dividing by 60\n",
    "print(hours)\n"
   ]
  },
  {
   "cell_type": "markdown",
   "id": "80e55d4b",
   "metadata": {},
   "source": [
    "**Objectives:**\n",
    "    List ppopular languages for Data Science.\n",
    "    Explain the role of libraries in Data Science.\n",
    "    Understand basic data structuresin python.\n",
    "    Discuss the importence of version control.\n",
    "    Describe the jupyter Notebook environment."
   ]
  },
  {
   "cell_type": "markdown",
   "id": "842ba19f",
   "metadata": {},
   "source": [
    "**Author**\n",
    "shafreen parveen"
   ]
  }
 ],
 "metadata": {
  "kernelspec": {
   "display_name": "Python 3 (ipykernel)",
   "language": "python",
   "name": "python3"
  },
  "language_info": {
   "codemirror_mode": {
    "name": "ipython",
    "version": 3
   },
   "file_extension": ".py",
   "mimetype": "text/x-python",
   "name": "python",
   "nbconvert_exporter": "python",
   "pygments_lexer": "ipython3",
   "version": "3.11.5"
  }
 },
 "nbformat": 4,
 "nbformat_minor": 5
}
