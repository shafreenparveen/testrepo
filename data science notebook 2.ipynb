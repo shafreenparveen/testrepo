{
 "cells": [
  {
   "cell_type": "markdown",
   "id": "a3f2de7b",
   "metadata": {},
   "source": [
    "Data Science Tools and Ecosystem"
   ]
  },
  {
   "cell_type": "markdown",
   "id": "d561bf8f",
   "metadata": {},
   "source": [
    "In this notebook, Data Science Tools and Ecosystem are summarized.\n"
   ]
  },
  {
   "cell_type": "markdown",
   "id": "1f0a69b6",
   "metadata": {},
   "source": [
    "Some of the popular languages that Data Scientists use are:\n",
    "1.Python\n",
    "2.R language\n",
    "3.Java\n",
    "4.Julia\n",
    "5.SQL\n",
    "6.Scala\n",
    "7.C++\n",
    "8.Javascript\n",
    "9.Php\n",
    "10.Go\n",
    "11.Ruby\n",
    "12.Visual Basic"
   ]
  },
  {
   "cell_type": "markdown",
   "id": "fdb59d72",
   "metadata": {},
   "source": [
    "Some of the commonly used libraries used by Data Scientists include:\n",
    "1.NumPy\n",
    "2.Matplotlib\n",
    "3.Pandas\n",
    "4.seaborn\n",
    "5.scikit-learn\n",
    "6.keras\n",
    "7.putorch\n",
    "8.Apache spark\n",
    "9.Vegas\n",
    "10.Big DL\n",
    "11.Ggplot2\n"
   ]
  },
  {
   "cell_type": "markdown",
   "id": "a7a4d6d7",
   "metadata": {},
   "source": [
    "|**Data science Tools**|\n",
    "|----------------------|\n",
    "|Jupyter notebook      |\n",
    "|R stuio               |\n",
    "|Spyder                |\n",
    "|Zeppelin              |\n",
    "|Anaconda              |\n"
   ]
  },
  {
   "cell_type": "markdown",
   "id": "b058ab58",
   "metadata": {},
   "source": [
    "***Below are a few examples of evaluating arithmetic expresssions in python.***"
   ]
  },
  {
   "cell_type": "code",
   "execution_count": 3,
   "id": "9f802959",
   "metadata": {},
   "outputs": [
    {
     "data": {
      "text/plain": [
       "17"
      ]
     },
     "execution_count": 3,
     "metadata": {},
     "output_type": "execute_result"
    }
   ],
   "source": [
    "(3*4)+5 #This a simple arithmetic expression to mutiply then add interers"
   ]
  },
  {
   "cell_type": "code",
   "execution_count": 6,
   "id": "2e76d94b",
   "metadata": {},
   "outputs": [
    {
     "name": "stdout",
     "output_type": "stream",
     "text": [
      "3.3333333333333335\n"
     ]
    }
   ],
   "source": [
    "minutes=200\n",
    "hours= minutes /60 #This will convert 200 minutes to hours by dividing by 60\n",
    "print(hours)\n"
   ]
  },
  {
   "cell_type": "markdown",
   "id": "9b9d55f9",
   "metadata": {},
   "source": [
    "**Objectives:**\n",
    "    List ppopular languages for Data Science.\n",
    "    Explain the role of libraries in Data Science.\n",
    "    Understand basic data structuresin python.\n",
    "    Discuss the importence of version control.\n",
    "    Describe the jupyter Notebook environment."
   ]
  },
  {
   "cell_type": "markdown",
   "id": "dca6832c",
   "metadata": {},
   "source": [
    "**Author**\n",
    "shafreen parveen"
   ]
  }
 ],
 "metadata": {
  "kernelspec": {
   "display_name": "Python 3 (ipykernel)",
   "language": "python",
   "name": "python3"
  },
  "language_info": {
   "codemirror_mode": {
    "name": "ipython",
    "version": 3
   },
   "file_extension": ".py",
   "mimetype": "text/x-python",
   "name": "python",
   "nbconvert_exporter": "python",
   "pygments_lexer": "ipython3",
   "version": "3.11.5"
  }
 },
 "nbformat": 4,
 "nbformat_minor": 5
}
